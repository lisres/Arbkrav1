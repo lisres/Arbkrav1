{
 "cells": [
  {
   "cell_type": "markdown",
   "id": "a9e0c230-ac77-4124-915a-322b25d944ec",
   "metadata": {},
   "source": [
    "# elbil vs bensinbil"
   ]
  },
  {
   "cell_type": "markdown",
   "id": "d14ca0db-377b-48db-9a64-bd16b7804b8e",
   "metadata": {},
   "source": [
    "## oppgitte verdier\n",
    "Her er variabler som inneholder tallene som oppgitt i oppgaven i arbeidskrav 1"
   ]
  },
  {
   "cell_type": "code",
   "execution_count": 38,
   "id": "16794d2c-0e77-4588-9a34-012368876737",
   "metadata": {},
   "outputs": [],
   "source": [
    "årlig_km = 10000\n",
    "\n",
    "# forsikring kostnader\n",
    "trafikkforsikringavgift_kr_dag = 8.38\n",
    "elbil_forsikring = 5000\n",
    "bensinbil_forsikring = 7500\n",
    "\n",
    "# drivstoff kostnader\n",
    "elbil_driftstoffbruk_kr_km = 0.2*2\n",
    "bensinbil_driftstoffbruk_kr_km = 1\n",
    "\n",
    "# bomavgift kostnader\n",
    "elbil_bomavgift_kr_km = 0.1\n",
    "bensinbil_bomavgift_kr_km = 0.3\n"
   ]
  },
  {
   "cell_type": "markdown",
   "id": "b3443108-a573-4eef-8b31-084b063936a3",
   "metadata": {},
   "source": [
    "## utregne verdier \n",
    "Her er variablene som inneholder de utregnede verdiene"
   ]
  },
  {
   "cell_type": "code",
   "execution_count": 40,
   "id": "d82be2d1-1644-4796-b7fd-974d561db6f0",
   "metadata": {},
   "outputs": [],
   "source": [
    "årligkostnad_trafikkforsikringavgift = 365*trafikkforsikringavgift_kr_dag\n",
    "\n",
    "elbilårligdrivstoff_kostnad = årlig_km*elbil_driftstoffbruk_kr_km\n",
    "elbilårligbomavgift = årlig_km*elbil_bomavgift_kr_km\n",
    "\n",
    "bensinbilårligdrivstoff_kostnad = årlig_km*bensinbil_driftstoffbruk_kr_km\n",
    "bensinbilårlig_bomavgift = årlig_km*bensinbil_bomavgift_kr_km"
   ]
  },
  {
   "cell_type": "markdown",
   "id": "9a52d80d-62b3-4aa6-b46e-e12ce81d0f7c",
   "metadata": {},
   "source": [
    "## totale kostnader\n",
    "\n",
    "Her er variabler som innholder årlig kostnad for elbil, bensinbil og differansen"
   ]
  },
  {
   "cell_type": "code",
   "execution_count": 42,
   "id": "54c690f7-6305-4fe7-9019-2f8955f870aa",
   "metadata": {},
   "outputs": [],
   "source": [
    "elbil_total = elbil_forsikring + årligkostnad_trafikkforsikringavgift + elbilårligdrivstoff_kostnad + elbilårligbomavgift\n",
    "\n",
    "bensinbil_total = bensinbil_forsikring + årligkostnad_trafikkforsikringavgift + bensinbilårligdrivstoff_kostnad + bensinbilårlig_bomavgift\n",
    "\n",
    "#differanse utregnet med abs funksjon funnet fra https://www.w3schools.com/python/ref_func_abs.asp\n",
    "årligkostnad_differanse = abs(elbil_total-bensinbil_total)"
   ]
  },
  {
   "cell_type": "markdown",
   "id": "3e024b2d-004a-4769-a70e-ce428047c7f9",
   "metadata": {},
   "source": [
    "## presentering av utregninger"
   ]
  },
  {
   "cell_type": "code",
   "execution_count": 44,
   "id": "22a505ab-e446-4ae5-ab2c-b1b1609e4937",
   "metadata": {},
   "outputs": [
    {
     "name": "stdout",
     "output_type": "stream",
     "text": [
      "Årlig kostnad elbil: 13058.7\n",
      "Årlig kostnad bensinbil 23558.7\n",
      "Differanse: 10500.0\n"
     ]
    }
   ],
   "source": [
    "print(\"Årlig kostnad elbil: \" + str(elbil_total))\n",
    "print(\"Årlig kostnad bensinbil \" + str(bensinbil_total))\n",
    "print(\"Differanse: \" + str(årligkostnad_differanse))"
   ]
  },
  {
   "cell_type": "code",
   "execution_count": null,
   "id": "5a069e7d-d981-4195-b276-60dc211182bb",
   "metadata": {},
   "outputs": [],
   "source": []
  }
 ],
 "metadata": {
  "kernelspec": {
   "display_name": "Python 3 (ipykernel)",
   "language": "python",
   "name": "python3"
  },
  "language_info": {
   "codemirror_mode": {
    "name": "ipython",
    "version": 3
   },
   "file_extension": ".py",
   "mimetype": "text/x-python",
   "name": "python",
   "nbconvert_exporter": "python",
   "pygments_lexer": "ipython3",
   "version": "3.12.7"
  }
 },
 "nbformat": 4,
 "nbformat_minor": 5
}
